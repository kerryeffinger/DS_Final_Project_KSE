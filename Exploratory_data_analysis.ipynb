{
 "cells": [
  {
   "cell_type": "markdown",
   "id": "bc54fdce",
   "metadata": {},
   "source": [
    "## Exploratory Data Analysis\n",
    "***Version:*** 1  \n",
    "***Date:*** February 21, 2023  \n",
    "***Author:*** Kerry Effinger"
   ]
  },
  {
   "cell_type": "markdown",
   "id": "f76f89e8",
   "metadata": {},
   "source": [
    "https://www.federalreserve.gov/monetarypolicy/openmarket.htm"
   ]
  },
  {
   "cell_type": "code",
   "execution_count": 1,
   "id": "9ead280d",
   "metadata": {},
   "outputs": [],
   "source": [
    "import mysql.connector\n",
    "import pandas as pd\n",
    "import requests\n",
    "import json\n",
    "from datetime import date\n",
    "import datetime\n",
    "import time\n",
    "import matplotlib.pyplot as plt\n",
    "from pandas.plotting import table\n",
    "import seaborn as sns"
   ]
  },
  {
   "cell_type": "code",
   "execution_count": 2,
   "id": "41eb0122",
   "metadata": {},
   "outputs": [],
   "source": [
    "#df = pd.read_csv('layoffscsv305_symbols.csv')"
   ]
  },
  {
   "cell_type": "code",
   "execution_count": 103,
   "id": "24afb28e",
   "metadata": {},
   "outputs": [],
   "source": [
    "#df"
   ]
  },
  {
   "cell_type": "markdown",
   "id": "153372ce",
   "metadata": {},
   "source": [
    "#### retrieving data from MySQL db:"
   ]
  },
  {
   "cell_type": "code",
   "execution_count": 13,
   "id": "ed6b8e0c",
   "metadata": {},
   "outputs": [
    {
     "name": "stdout",
     "output_type": "stream",
     "text": [
      "<mysql.connector.connection.MySQLConnection object at 0x7fa27d5cb820>\n"
     ]
    }
   ],
   "source": [
    "#connection = mysql.connector.connect(user='root', password='IndyDenver22!',\n",
    "                              #host='localhost',\n",
    "                              #database='layoffs')\n",
    "#global_cursor = connection.cursor()\n",
    "#print(connection)"
   ]
  },
  {
   "cell_type": "code",
   "execution_count": 110,
   "id": "98ee94b0",
   "metadata": {},
   "outputs": [],
   "source": [
    "connection = mysql.connector.connect(user='layoff_user', password='IndyDenver22!',\n",
    "                              host='r2klabs.com',\n",
    "                              database='layoffs')"
   ]
  },
  {
   "cell_type": "code",
   "execution_count": 111,
   "id": "af43f18e",
   "metadata": {},
   "outputs": [],
   "source": [
    "cursor = connection.cursor()"
   ]
  },
  {
   "cell_type": "code",
   "execution_count": 112,
   "id": "c23cbf5a",
   "metadata": {},
   "outputs": [
    {
     "name": "stderr",
     "output_type": "stream",
     "text": [
      "/Users/kerryeffinger/opt/anaconda3/lib/python3.9/site-packages/pandas/io/sql.py:762: UserWarning: pandas only support SQLAlchemy connectable(engine/connection) ordatabase string URI or sqlite3 DBAPI2 connectionother DBAPI2 objects are not tested, please consider using SQLAlchemy\n",
      "  warnings.warn(\n"
     ]
    }
   ],
   "source": [
    "df = pd.read_sql('SELECT * FROM layoffsfyi', connection)"
   ]
  },
  {
   "cell_type": "code",
   "execution_count": 16,
   "id": "7db18041",
   "metadata": {},
   "outputs": [],
   "source": [
    "#sql = \"SELECT * FROM layoffsfyi;\"\n",
    "\n",
    "#cursor.execute(sql)\n",
    "#rows = cursor.fetchall();"
   ]
  },
  {
   "cell_type": "code",
   "execution_count": 17,
   "id": "3d3f3846",
   "metadata": {},
   "outputs": [],
   "source": [
    "#column_names = ['Company', 'Location', 'Number_laid_off', 'Layoff_date','Percent', 'Industry', 'Stage', 'Money_raised_mm', 'Date_reported']"
   ]
  },
  {
   "cell_type": "code",
   "execution_count": 18,
   "id": "acb21c50",
   "metadata": {},
   "outputs": [],
   "source": [
    "#data2 = pd.DataFrame(rows, columns=column_names)"
   ]
  },
  {
   "cell_type": "code",
   "execution_count": 88,
   "id": "cc44da65",
   "metadata": {},
   "outputs": [],
   "source": [
    "#data2.head()"
   ]
  },
  {
   "cell_type": "code",
   "execution_count": 113,
   "id": "ea7541a6",
   "metadata": {},
   "outputs": [
    {
     "data": {
      "text/html": [
       "<div>\n",
       "<style scoped>\n",
       "    .dataframe tbody tr th:only-of-type {\n",
       "        vertical-align: middle;\n",
       "    }\n",
       "\n",
       "    .dataframe tbody tr th {\n",
       "        vertical-align: top;\n",
       "    }\n",
       "\n",
       "    .dataframe thead th {\n",
       "        text-align: right;\n",
       "    }\n",
       "</style>\n",
       "<table border=\"1\" class=\"dataframe\">\n",
       "  <thead>\n",
       "    <tr style=\"text-align: right;\">\n",
       "      <th></th>\n",
       "      <th>Company</th>\n",
       "      <th>Location</th>\n",
       "      <th>Number_laid_off</th>\n",
       "      <th>Layoff_date</th>\n",
       "      <th>Percent</th>\n",
       "      <th>Industry</th>\n",
       "      <th>Stage</th>\n",
       "      <th>Money_raised_mm</th>\n",
       "      <th>Date_reported</th>\n",
       "    </tr>\n",
       "  </thead>\n",
       "  <tbody>\n",
       "    <tr>\n",
       "      <th>0</th>\n",
       "      <td>100 Thieves</td>\n",
       "      <td>Los Angeles</td>\n",
       "      <td>0</td>\n",
       "      <td>2023-01-10</td>\n",
       "      <td>0</td>\n",
       "      <td>Retail</td>\n",
       "      <td>Series C</td>\n",
       "      <td>120</td>\n",
       "      <td>2023-01-12</td>\n",
       "    </tr>\n",
       "    <tr>\n",
       "      <th>1</th>\n",
       "      <td>80 Acres Farms</td>\n",
       "      <td>Cincinnati</td>\n",
       "      <td>0</td>\n",
       "      <td>2023-01-18</td>\n",
       "      <td>10</td>\n",
       "      <td>Food</td>\n",
       "      <td>Unknown</td>\n",
       "      <td>275</td>\n",
       "      <td>2023-01-18</td>\n",
       "    </tr>\n",
       "    <tr>\n",
       "      <th>2</th>\n",
       "      <td>8x8</td>\n",
       "      <td>SF Bay Area</td>\n",
       "      <td>155</td>\n",
       "      <td>2023-01-18</td>\n",
       "      <td>7</td>\n",
       "      <td>Support</td>\n",
       "      <td>IPO</td>\n",
       "      <td>253</td>\n",
       "      <td>2023-01-18</td>\n",
       "    </tr>\n",
       "    <tr>\n",
       "      <th>3</th>\n",
       "      <td>Addepar</td>\n",
       "      <td>SF Bay Area</td>\n",
       "      <td>20</td>\n",
       "      <td>2023-01-18</td>\n",
       "      <td>3</td>\n",
       "      <td>Finance</td>\n",
       "      <td>Series F</td>\n",
       "      <td>491</td>\n",
       "      <td>2023-01-18</td>\n",
       "    </tr>\n",
       "    <tr>\n",
       "      <th>4</th>\n",
       "      <td>Affirm</td>\n",
       "      <td>SF Bay Area</td>\n",
       "      <td>500</td>\n",
       "      <td>2023-02-08</td>\n",
       "      <td>19</td>\n",
       "      <td>Finance</td>\n",
       "      <td>Post-IPO</td>\n",
       "      <td>1500</td>\n",
       "      <td>2023-02-08</td>\n",
       "    </tr>\n",
       "    <tr>\n",
       "      <th>...</th>\n",
       "      <td>...</td>\n",
       "      <td>...</td>\n",
       "      <td>...</td>\n",
       "      <td>...</td>\n",
       "      <td>...</td>\n",
       "      <td>...</td>\n",
       "      <td>...</td>\n",
       "      <td>...</td>\n",
       "      <td>...</td>\n",
       "    </tr>\n",
       "    <tr>\n",
       "      <th>254</th>\n",
       "      <td>Wyre</td>\n",
       "      <td>SF Bay Area</td>\n",
       "      <td>0</td>\n",
       "      <td>2023-01-04</td>\n",
       "      <td>100</td>\n",
       "      <td>Crypto</td>\n",
       "      <td>Unknown</td>\n",
       "      <td>29</td>\n",
       "      <td>2023-01-05</td>\n",
       "    </tr>\n",
       "    <tr>\n",
       "      <th>255</th>\n",
       "      <td>Yahoo</td>\n",
       "      <td>SF Bay Area</td>\n",
       "      <td>1600</td>\n",
       "      <td>2023-02-09</td>\n",
       "      <td>20</td>\n",
       "      <td>Consumer</td>\n",
       "      <td>Acquired</td>\n",
       "      <td>6</td>\n",
       "      <td>2023-02-09</td>\n",
       "    </tr>\n",
       "    <tr>\n",
       "      <th>256</th>\n",
       "      <td>Yext</td>\n",
       "      <td>New York City</td>\n",
       "      <td>0</td>\n",
       "      <td>2023-01-23</td>\n",
       "      <td>8</td>\n",
       "      <td>Marketing</td>\n",
       "      <td>IPO</td>\n",
       "      <td>117</td>\n",
       "      <td>2023-01-23</td>\n",
       "    </tr>\n",
       "    <tr>\n",
       "      <th>257</th>\n",
       "      <td>Zappos</td>\n",
       "      <td>Las Vegas</td>\n",
       "      <td>0</td>\n",
       "      <td>2023-01-20</td>\n",
       "      <td>0</td>\n",
       "      <td>Retail</td>\n",
       "      <td>Acquired</td>\n",
       "      <td>62</td>\n",
       "      <td>2023-01-21</td>\n",
       "    </tr>\n",
       "    <tr>\n",
       "      <th>258</th>\n",
       "      <td>Zoom</td>\n",
       "      <td>SF Bay Area</td>\n",
       "      <td>1300</td>\n",
       "      <td>2023-02-07</td>\n",
       "      <td>15</td>\n",
       "      <td>Other</td>\n",
       "      <td>Post-IPO</td>\n",
       "      <td>276</td>\n",
       "      <td>2023-02-07</td>\n",
       "    </tr>\n",
       "  </tbody>\n",
       "</table>\n",
       "<p>259 rows × 9 columns</p>\n",
       "</div>"
      ],
      "text/plain": [
       "            Company       Location  Number_laid_off Layoff_date  Percent  \\\n",
       "0       100 Thieves    Los Angeles                0  2023-01-10        0   \n",
       "1    80 Acres Farms     Cincinnati                0  2023-01-18       10   \n",
       "2               8x8    SF Bay Area              155  2023-01-18        7   \n",
       "3           Addepar    SF Bay Area               20  2023-01-18        3   \n",
       "4            Affirm    SF Bay Area              500  2023-02-08       19   \n",
       "..              ...            ...              ...         ...      ...   \n",
       "254            Wyre    SF Bay Area                0  2023-01-04      100   \n",
       "255           Yahoo    SF Bay Area             1600  2023-02-09       20   \n",
       "256            Yext  New York City                0  2023-01-23        8   \n",
       "257          Zappos      Las Vegas                0  2023-01-20        0   \n",
       "258            Zoom    SF Bay Area             1300  2023-02-07       15   \n",
       "\n",
       "      Industry     Stage  Money_raised_mm Date_reported  \n",
       "0       Retail  Series C              120    2023-01-12  \n",
       "1         Food   Unknown              275    2023-01-18  \n",
       "2      Support       IPO              253    2023-01-18  \n",
       "3      Finance  Series F              491    2023-01-18  \n",
       "4      Finance  Post-IPO             1500    2023-02-08  \n",
       "..         ...       ...              ...           ...  \n",
       "254     Crypto   Unknown               29    2023-01-05  \n",
       "255   Consumer  Acquired                6    2023-02-09  \n",
       "256  Marketing       IPO              117    2023-01-23  \n",
       "257     Retail  Acquired               62    2023-01-21  \n",
       "258      Other  Post-IPO              276    2023-02-07  \n",
       "\n",
       "[259 rows x 9 columns]"
      ]
     },
     "execution_count": 113,
     "metadata": {},
     "output_type": "execute_result"
    }
   ],
   "source": [
    "df"
   ]
  },
  {
   "cell_type": "code",
   "execution_count": 109,
   "id": "991f6375",
   "metadata": {},
   "outputs": [
    {
     "data": {
      "text/plain": [
       "Company            object\n",
       "Location           object\n",
       "Number_laid_off     int64\n",
       "Layoff_date        object\n",
       "Percent             int64\n",
       "Industry           object\n",
       "Stage              object\n",
       "Money_raised_mm     int64\n",
       "Date_reported      object\n",
       "dtype: object"
      ]
     },
     "execution_count": 109,
     "metadata": {},
     "output_type": "execute_result"
    }
   ],
   "source": [
    "df.dtypes"
   ]
  },
  {
   "cell_type": "code",
   "execution_count": 5,
   "id": "8bc1dfb8",
   "metadata": {},
   "outputs": [
    {
     "data": {
      "text/plain": [
       "Index(['Company', 'Symbol', 'Location', 'Number_laid_off', 'Layoff_date',\n",
       "       'Percent', 'Industry', 'Stage', 'Money_raised_mm', 'Date_reported',\n",
       "       'Fed_int_rate'],\n",
       "      dtype='object')"
      ]
     },
     "execution_count": 5,
     "metadata": {},
     "output_type": "execute_result"
    }
   ],
   "source": [
    "df.columns"
   ]
  },
  {
   "cell_type": "markdown",
   "id": "4b102654",
   "metadata": {},
   "source": [
    "## Data Types"
   ]
  },
  {
   "cell_type": "code",
   "execution_count": 83,
   "id": "1ae98b9d",
   "metadata": {},
   "outputs": [],
   "source": [
    "#df"
   ]
  },
  {
   "cell_type": "code",
   "execution_count": 6,
   "id": "7e5da37d",
   "metadata": {},
   "outputs": [],
   "source": [
    "df.Layoff_date = pd.to_datetime(df.Layoff_date)"
   ]
  },
  {
   "cell_type": "code",
   "execution_count": 7,
   "id": "352c0d78",
   "metadata": {},
   "outputs": [],
   "source": [
    "df.Date_reported = pd.to_datetime(df.Date_reported)"
   ]
  },
  {
   "cell_type": "code",
   "execution_count": 8,
   "id": "ada2595c",
   "metadata": {},
   "outputs": [
    {
     "data": {
      "text/plain": [
       "Company                    object\n",
       "Symbol                     object\n",
       "Location                   object\n",
       "Number_laid_off           float64\n",
       "Layoff_date        datetime64[ns]\n",
       "Percent                   float64\n",
       "Industry                   object\n",
       "Stage                      object\n",
       "Money_raised_mm           float64\n",
       "Date_reported      datetime64[ns]\n",
       "Fed_int_rate              float64\n",
       "dtype: object"
      ]
     },
     "execution_count": 8,
     "metadata": {},
     "output_type": "execute_result"
    }
   ],
   "source": [
    "df.dtypes"
   ]
  },
  {
   "cell_type": "markdown",
   "id": "69c1ab16",
   "metadata": {},
   "source": [
    "## Missing Data"
   ]
  },
  {
   "cell_type": "code",
   "execution_count": 9,
   "id": "472eab80",
   "metadata": {},
   "outputs": [],
   "source": [
    "C_na = df['Company'].isna().sum()/len(df['Company'])\n",
    "Sym_na = df['Symbol'].isna().sum()/len(df['Symbol'])\n",
    "Loc_na = df['Location'].isna().sum()/len(df['Location'])\n",
    "N_na = df['Number_laid_off'].isna().sum()/len(df['Number_laid_off'])\n",
    "Date_na = df['Layoff_date'].isna().sum()/len(df['Layoff_date'])\n",
    "P_na = df['Percent'].isna().sum()/len(df['Percent'])\n",
    "I_na = df['Industry'].isna().sum()/len(df['Industry'])\n",
    "S_na = df['Stage'].isna().sum()/len(df['Stage'])\n",
    "M_na = df['Money_raised_mm'].isna().sum()/len(df['Money_raised_mm'])\n",
    "R_na = df['Date_reported'].isna().sum()/len(df['Date_reported'])\n",
    "F_na = df['Fed_int_rate'].isna().sum()/len(df['Fed_int_rate'])"
   ]
  },
  {
   "cell_type": "code",
   "execution_count": 10,
   "id": "e902f3cb",
   "metadata": {},
   "outputs": [
    {
     "data": {
      "text/plain": [
       "309"
      ]
     },
     "execution_count": 10,
     "metadata": {},
     "output_type": "execute_result"
    }
   ],
   "source": [
    "len(df['Number_laid_off'])"
   ]
  },
  {
   "cell_type": "code",
   "execution_count": 11,
   "id": "ea5be234",
   "metadata": {},
   "outputs": [
    {
     "name": "stdout",
     "output_type": "stream",
     "text": [
      "Company 0.0 Symbol 0.6925566343042071 Location 0.0 N_laid_off 0.37540453074433655 Layoff Date 0.003236245954692557 Percent 0.343042071197411 Industry 0.006472491909385114 Stage 0.003236245954692557 Money raised 0.12297734627831715 Date reported 0.003236245954692557 Fed Int Rate 0.003236245954692557\n"
     ]
    }
   ],
   "source": [
    "print('Company', C_na, 'Symbol', Sym_na, 'Location', Loc_na, \n",
    "      'N_laid_off',N_na, 'Layoff Date',Date_na, \n",
    "      'Percent', P_na, 'Industry', I_na, \n",
    "      'Stage', S_na, 'Money raised', M_na,\n",
    "      'Date reported', R_na, 'Fed Int Rate', F_na)"
   ]
  },
  {
   "cell_type": "markdown",
   "id": "20cc62cc",
   "metadata": {},
   "source": [
    "## Summary Statistics"
   ]
  },
  {
   "cell_type": "code",
   "execution_count": 12,
   "id": "9f88bb9b",
   "metadata": {},
   "outputs": [],
   "source": [
    "observations = len(df['Company'])"
   ]
  },
  {
   "cell_type": "code",
   "execution_count": 13,
   "id": "e4a128df",
   "metadata": {},
   "outputs": [
    {
     "data": {
      "text/html": [
       "<div>\n",
       "<style scoped>\n",
       "    .dataframe tbody tr th:only-of-type {\n",
       "        vertical-align: middle;\n",
       "    }\n",
       "\n",
       "    .dataframe tbody tr th {\n",
       "        vertical-align: top;\n",
       "    }\n",
       "\n",
       "    .dataframe thead th {\n",
       "        text-align: right;\n",
       "    }\n",
       "</style>\n",
       "<table border=\"1\" class=\"dataframe\">\n",
       "  <thead>\n",
       "    <tr style=\"text-align: right;\">\n",
       "      <th></th>\n",
       "      <th>Number_laid_off</th>\n",
       "      <th>Percent</th>\n",
       "      <th>Money_raised_mm</th>\n",
       "      <th>Fed_int_rate</th>\n",
       "    </tr>\n",
       "  </thead>\n",
       "  <tbody>\n",
       "    <tr>\n",
       "      <th>count</th>\n",
       "      <td>193.000000</td>\n",
       "      <td>203.000000</td>\n",
       "      <td>271.000000</td>\n",
       "      <td>308.000000</td>\n",
       "    </tr>\n",
       "    <tr>\n",
       "      <th>mean</th>\n",
       "      <td>462.538860</td>\n",
       "      <td>19.556650</td>\n",
       "      <td>679.132841</td>\n",
       "      <td>4.603896</td>\n",
       "    </tr>\n",
       "    <tr>\n",
       "      <th>std</th>\n",
       "      <td>1475.367264</td>\n",
       "      <td>21.504789</td>\n",
       "      <td>1934.966857</td>\n",
       "      <td>0.123406</td>\n",
       "    </tr>\n",
       "    <tr>\n",
       "      <th>min</th>\n",
       "      <td>12.000000</td>\n",
       "      <td>2.000000</td>\n",
       "      <td>1.000000</td>\n",
       "      <td>4.500000</td>\n",
       "    </tr>\n",
       "    <tr>\n",
       "      <th>25%</th>\n",
       "      <td>55.000000</td>\n",
       "      <td>7.000000</td>\n",
       "      <td>101.000000</td>\n",
       "      <td>4.500000</td>\n",
       "    </tr>\n",
       "    <tr>\n",
       "      <th>50%</th>\n",
       "      <td>104.000000</td>\n",
       "      <td>12.000000</td>\n",
       "      <td>245.000000</td>\n",
       "      <td>4.500000</td>\n",
       "    </tr>\n",
       "    <tr>\n",
       "      <th>75%</th>\n",
       "      <td>250.000000</td>\n",
       "      <td>20.000000</td>\n",
       "      <td>556.500000</td>\n",
       "      <td>4.750000</td>\n",
       "    </tr>\n",
       "    <tr>\n",
       "      <th>max</th>\n",
       "      <td>12000.000000</td>\n",
       "      <td>100.000000</td>\n",
       "      <td>22200.000000</td>\n",
       "      <td>4.750000</td>\n",
       "    </tr>\n",
       "  </tbody>\n",
       "</table>\n",
       "</div>"
      ],
      "text/plain": [
       "       Number_laid_off     Percent  Money_raised_mm  Fed_int_rate\n",
       "count       193.000000  203.000000       271.000000    308.000000\n",
       "mean        462.538860   19.556650       679.132841      4.603896\n",
       "std        1475.367264   21.504789      1934.966857      0.123406\n",
       "min          12.000000    2.000000         1.000000      4.500000\n",
       "25%          55.000000    7.000000       101.000000      4.500000\n",
       "50%         104.000000   12.000000       245.000000      4.500000\n",
       "75%         250.000000   20.000000       556.500000      4.750000\n",
       "max       12000.000000  100.000000     22200.000000      4.750000"
      ]
     },
     "execution_count": 13,
     "metadata": {},
     "output_type": "execute_result"
    }
   ],
   "source": [
    "df.describe()"
   ]
  },
  {
   "cell_type": "markdown",
   "id": "8aec9334",
   "metadata": {},
   "source": [
    "## Categorical Variables\n",
    "Location, Industry, Stage, Fed_rate (dates??)"
   ]
  },
  {
   "cell_type": "code",
   "execution_count": 14,
   "id": "c6f4aa32",
   "metadata": {},
   "outputs": [],
   "source": [
    "Loc_cat = df['Location'].groupby(df['Location']).count()"
   ]
  },
  {
   "cell_type": "markdown",
   "id": "e56b323c",
   "metadata": {},
   "source": [
    "#### If city only has one entry, add to 'other' category"
   ]
  },
  {
   "cell_type": "code",
   "execution_count": 15,
   "id": "9389c8dd",
   "metadata": {},
   "outputs": [],
   "source": [
    "Loc_cat = pd.DataFrame(Loc_cat)\n",
    "#Loc_cat"
   ]
  },
  {
   "cell_type": "code",
   "execution_count": 16,
   "id": "bb2d6c40",
   "metadata": {},
   "outputs": [],
   "source": [
    "loc_other = Loc_cat[Loc_cat.Location ==1]\n",
    "loc_other = loc_other.Location.sum()"
   ]
  },
  {
   "cell_type": "code",
   "execution_count": 17,
   "id": "21eb63ed",
   "metadata": {},
   "outputs": [
    {
     "data": {
      "text/plain": [
       "24"
      ]
     },
     "execution_count": 17,
     "metadata": {},
     "output_type": "execute_result"
    }
   ],
   "source": [
    "loc_other"
   ]
  },
  {
   "cell_type": "code",
   "execution_count": 18,
   "id": "c83f4a84",
   "metadata": {},
   "outputs": [
    {
     "name": "stderr",
     "output_type": "stream",
     "text": [
      "/var/folders/nq/ddvf17lj6pl7qc2kn88qypj00000gn/T/ipykernel_12515/3954558115.py:2: SettingWithCopyWarning: \n",
      "A value is trying to be set on a copy of a slice from a DataFrame\n",
      "\n",
      "See the caveats in the documentation: https://pandas.pydata.org/pandas-docs/stable/user_guide/indexing.html#returning-a-view-versus-a-copy\n",
      "  Loc_cat1.rename(columns={'Location':'Companies'}, inplace=True)\n"
     ]
    },
    {
     "data": {
      "text/html": [
       "<div>\n",
       "<style scoped>\n",
       "    .dataframe tbody tr th:only-of-type {\n",
       "        vertical-align: middle;\n",
       "    }\n",
       "\n",
       "    .dataframe tbody tr th {\n",
       "        vertical-align: top;\n",
       "    }\n",
       "\n",
       "    .dataframe thead th {\n",
       "        text-align: right;\n",
       "    }\n",
       "</style>\n",
       "<table border=\"1\" class=\"dataframe\">\n",
       "  <thead>\n",
       "    <tr style=\"text-align: right;\">\n",
       "      <th></th>\n",
       "      <th>Companies</th>\n",
       "    </tr>\n",
       "    <tr>\n",
       "      <th>Location</th>\n",
       "      <th></th>\n",
       "    </tr>\n",
       "  </thead>\n",
       "  <tbody>\n",
       "    <tr>\n",
       "      <th>Atlanta</th>\n",
       "      <td>6</td>\n",
       "    </tr>\n",
       "    <tr>\n",
       "      <th>Austin</th>\n",
       "      <td>9</td>\n",
       "    </tr>\n",
       "    <tr>\n",
       "      <th>Boise</th>\n",
       "      <td>2</td>\n",
       "    </tr>\n",
       "    <tr>\n",
       "      <th>Boston</th>\n",
       "      <td>24</td>\n",
       "    </tr>\n",
       "    <tr>\n",
       "      <th>Charlotte</th>\n",
       "      <td>2</td>\n",
       "    </tr>\n",
       "    <tr>\n",
       "      <th>Chicago</th>\n",
       "      <td>3</td>\n",
       "    </tr>\n",
       "    <tr>\n",
       "      <th>Cincinnati</th>\n",
       "      <td>2</td>\n",
       "    </tr>\n",
       "    <tr>\n",
       "      <th>Columbus</th>\n",
       "      <td>4</td>\n",
       "    </tr>\n",
       "    <tr>\n",
       "      <th>Denver</th>\n",
       "      <td>2</td>\n",
       "    </tr>\n",
       "    <tr>\n",
       "      <th>Las Vegas</th>\n",
       "      <td>2</td>\n",
       "    </tr>\n",
       "    <tr>\n",
       "      <th>London</th>\n",
       "      <td>3</td>\n",
       "    </tr>\n",
       "    <tr>\n",
       "      <th>Los Angeles</th>\n",
       "      <td>14</td>\n",
       "    </tr>\n",
       "    <tr>\n",
       "      <th>Miami</th>\n",
       "      <td>3</td>\n",
       "    </tr>\n",
       "    <tr>\n",
       "      <th>Nashville</th>\n",
       "      <td>2</td>\n",
       "    </tr>\n",
       "    <tr>\n",
       "      <th>New York City</th>\n",
       "      <td>41</td>\n",
       "    </tr>\n",
       "    <tr>\n",
       "      <th>Philadelphia</th>\n",
       "      <td>3</td>\n",
       "    </tr>\n",
       "    <tr>\n",
       "      <th>Phoenix</th>\n",
       "      <td>2</td>\n",
       "    </tr>\n",
       "    <tr>\n",
       "      <th>Pittsburgh</th>\n",
       "      <td>2</td>\n",
       "    </tr>\n",
       "    <tr>\n",
       "      <th>Portland</th>\n",
       "      <td>3</td>\n",
       "    </tr>\n",
       "    <tr>\n",
       "      <th>Reno</th>\n",
       "      <td>2</td>\n",
       "    </tr>\n",
       "    <tr>\n",
       "      <th>SF Bay Area</th>\n",
       "      <td>123</td>\n",
       "    </tr>\n",
       "    <tr>\n",
       "      <th>San Antonio</th>\n",
       "      <td>2</td>\n",
       "    </tr>\n",
       "    <tr>\n",
       "      <th>San Diego</th>\n",
       "      <td>2</td>\n",
       "    </tr>\n",
       "    <tr>\n",
       "      <th>Seattle</th>\n",
       "      <td>15</td>\n",
       "    </tr>\n",
       "    <tr>\n",
       "      <th>St. Louis</th>\n",
       "      <td>3</td>\n",
       "    </tr>\n",
       "    <tr>\n",
       "      <th>Washington DC</th>\n",
       "      <td>7</td>\n",
       "    </tr>\n",
       "    <tr>\n",
       "      <th>Wilmington</th>\n",
       "      <td>2</td>\n",
       "    </tr>\n",
       "  </tbody>\n",
       "</table>\n",
       "</div>"
      ],
      "text/plain": [
       "               Companies\n",
       "Location                \n",
       "Atlanta                6\n",
       "Austin                 9\n",
       "Boise                  2\n",
       "Boston                24\n",
       "Charlotte              2\n",
       "Chicago                3\n",
       "Cincinnati             2\n",
       "Columbus               4\n",
       "Denver                 2\n",
       "Las Vegas              2\n",
       "London                 3\n",
       "Los Angeles           14\n",
       "Miami                  3\n",
       "Nashville              2\n",
       "New York City         41\n",
       "Philadelphia           3\n",
       "Phoenix                2\n",
       "Pittsburgh             2\n",
       "Portland               3\n",
       "Reno                   2\n",
       "SF Bay Area          123\n",
       "San Antonio            2\n",
       "San Diego              2\n",
       "Seattle               15\n",
       "St. Louis              3\n",
       "Washington DC          7\n",
       "Wilmington             2"
      ]
     },
     "execution_count": 18,
     "metadata": {},
     "output_type": "execute_result"
    }
   ],
   "source": [
    "Loc_cat1 = Loc_cat[Loc_cat.Location != 1]\n",
    "Loc_cat1.rename(columns={'Location':'Companies'}, inplace=True)\n",
    "Loc_cat1"
   ]
  },
  {
   "cell_type": "code",
   "execution_count": 19,
   "id": "afaebae2",
   "metadata": {},
   "outputs": [],
   "source": [
    "Loc_cat1 = Loc_cat1.reset_index()"
   ]
  },
  {
   "cell_type": "code",
   "execution_count": 20,
   "id": "9ce9f2ea",
   "metadata": {},
   "outputs": [],
   "source": [
    "Loc_cat1.loc[len(Loc_cat1.index)] = ['Other', loc_other] "
   ]
  },
  {
   "cell_type": "code",
   "execution_count": 21,
   "id": "388323bb",
   "metadata": {},
   "outputs": [
    {
     "data": {
      "text/html": [
       "<div>\n",
       "<style scoped>\n",
       "    .dataframe tbody tr th:only-of-type {\n",
       "        vertical-align: middle;\n",
       "    }\n",
       "\n",
       "    .dataframe tbody tr th {\n",
       "        vertical-align: top;\n",
       "    }\n",
       "\n",
       "    .dataframe thead th {\n",
       "        text-align: right;\n",
       "    }\n",
       "</style>\n",
       "<table border=\"1\" class=\"dataframe\">\n",
       "  <thead>\n",
       "    <tr style=\"text-align: right;\">\n",
       "      <th></th>\n",
       "      <th>Location</th>\n",
       "      <th>Companies</th>\n",
       "    </tr>\n",
       "  </thead>\n",
       "  <tbody>\n",
       "    <tr>\n",
       "      <th>0</th>\n",
       "      <td>Atlanta</td>\n",
       "      <td>6</td>\n",
       "    </tr>\n",
       "    <tr>\n",
       "      <th>1</th>\n",
       "      <td>Austin</td>\n",
       "      <td>9</td>\n",
       "    </tr>\n",
       "    <tr>\n",
       "      <th>2</th>\n",
       "      <td>Boise</td>\n",
       "      <td>2</td>\n",
       "    </tr>\n",
       "    <tr>\n",
       "      <th>3</th>\n",
       "      <td>Boston</td>\n",
       "      <td>24</td>\n",
       "    </tr>\n",
       "    <tr>\n",
       "      <th>4</th>\n",
       "      <td>Charlotte</td>\n",
       "      <td>2</td>\n",
       "    </tr>\n",
       "    <tr>\n",
       "      <th>5</th>\n",
       "      <td>Chicago</td>\n",
       "      <td>3</td>\n",
       "    </tr>\n",
       "    <tr>\n",
       "      <th>6</th>\n",
       "      <td>Cincinnati</td>\n",
       "      <td>2</td>\n",
       "    </tr>\n",
       "    <tr>\n",
       "      <th>7</th>\n",
       "      <td>Columbus</td>\n",
       "      <td>4</td>\n",
       "    </tr>\n",
       "    <tr>\n",
       "      <th>8</th>\n",
       "      <td>Denver</td>\n",
       "      <td>2</td>\n",
       "    </tr>\n",
       "    <tr>\n",
       "      <th>9</th>\n",
       "      <td>Las Vegas</td>\n",
       "      <td>2</td>\n",
       "    </tr>\n",
       "    <tr>\n",
       "      <th>10</th>\n",
       "      <td>London</td>\n",
       "      <td>3</td>\n",
       "    </tr>\n",
       "    <tr>\n",
       "      <th>11</th>\n",
       "      <td>Los Angeles</td>\n",
       "      <td>14</td>\n",
       "    </tr>\n",
       "    <tr>\n",
       "      <th>12</th>\n",
       "      <td>Miami</td>\n",
       "      <td>3</td>\n",
       "    </tr>\n",
       "    <tr>\n",
       "      <th>13</th>\n",
       "      <td>Nashville</td>\n",
       "      <td>2</td>\n",
       "    </tr>\n",
       "    <tr>\n",
       "      <th>14</th>\n",
       "      <td>New York City</td>\n",
       "      <td>41</td>\n",
       "    </tr>\n",
       "    <tr>\n",
       "      <th>15</th>\n",
       "      <td>Philadelphia</td>\n",
       "      <td>3</td>\n",
       "    </tr>\n",
       "    <tr>\n",
       "      <th>16</th>\n",
       "      <td>Phoenix</td>\n",
       "      <td>2</td>\n",
       "    </tr>\n",
       "    <tr>\n",
       "      <th>17</th>\n",
       "      <td>Pittsburgh</td>\n",
       "      <td>2</td>\n",
       "    </tr>\n",
       "    <tr>\n",
       "      <th>18</th>\n",
       "      <td>Portland</td>\n",
       "      <td>3</td>\n",
       "    </tr>\n",
       "    <tr>\n",
       "      <th>19</th>\n",
       "      <td>Reno</td>\n",
       "      <td>2</td>\n",
       "    </tr>\n",
       "    <tr>\n",
       "      <th>20</th>\n",
       "      <td>SF Bay Area</td>\n",
       "      <td>123</td>\n",
       "    </tr>\n",
       "    <tr>\n",
       "      <th>21</th>\n",
       "      <td>San Antonio</td>\n",
       "      <td>2</td>\n",
       "    </tr>\n",
       "    <tr>\n",
       "      <th>22</th>\n",
       "      <td>San Diego</td>\n",
       "      <td>2</td>\n",
       "    </tr>\n",
       "    <tr>\n",
       "      <th>23</th>\n",
       "      <td>Seattle</td>\n",
       "      <td>15</td>\n",
       "    </tr>\n",
       "    <tr>\n",
       "      <th>24</th>\n",
       "      <td>St. Louis</td>\n",
       "      <td>3</td>\n",
       "    </tr>\n",
       "    <tr>\n",
       "      <th>25</th>\n",
       "      <td>Washington DC</td>\n",
       "      <td>7</td>\n",
       "    </tr>\n",
       "    <tr>\n",
       "      <th>26</th>\n",
       "      <td>Wilmington</td>\n",
       "      <td>2</td>\n",
       "    </tr>\n",
       "    <tr>\n",
       "      <th>27</th>\n",
       "      <td>Other</td>\n",
       "      <td>24</td>\n",
       "    </tr>\n",
       "  </tbody>\n",
       "</table>\n",
       "</div>"
      ],
      "text/plain": [
       "         Location  Companies\n",
       "0         Atlanta          6\n",
       "1          Austin          9\n",
       "2           Boise          2\n",
       "3          Boston         24\n",
       "4       Charlotte          2\n",
       "5         Chicago          3\n",
       "6      Cincinnati          2\n",
       "7        Columbus          4\n",
       "8          Denver          2\n",
       "9       Las Vegas          2\n",
       "10         London          3\n",
       "11    Los Angeles         14\n",
       "12          Miami          3\n",
       "13      Nashville          2\n",
       "14  New York City         41\n",
       "15   Philadelphia          3\n",
       "16        Phoenix          2\n",
       "17     Pittsburgh          2\n",
       "18       Portland          3\n",
       "19           Reno          2\n",
       "20    SF Bay Area        123\n",
       "21    San Antonio          2\n",
       "22      San Diego          2\n",
       "23        Seattle         15\n",
       "24      St. Louis          3\n",
       "25  Washington DC          7\n",
       "26     Wilmington          2\n",
       "27          Other         24"
      ]
     },
     "execution_count": 21,
     "metadata": {},
     "output_type": "execute_result"
    }
   ],
   "source": [
    "Loc_cat1"
   ]
  },
  {
   "cell_type": "code",
   "execution_count": 22,
   "id": "1aa12e5d",
   "metadata": {},
   "outputs": [],
   "source": [
    "Loc_cat2 = Loc_cat1.copy()"
   ]
  },
  {
   "cell_type": "code",
   "execution_count": 23,
   "id": "f87c2c28",
   "metadata": {},
   "outputs": [
    {
     "data": {
      "text/html": [
       "<div>\n",
       "<style scoped>\n",
       "    .dataframe tbody tr th:only-of-type {\n",
       "        vertical-align: middle;\n",
       "    }\n",
       "\n",
       "    .dataframe tbody tr th {\n",
       "        vertical-align: top;\n",
       "    }\n",
       "\n",
       "    .dataframe thead th {\n",
       "        text-align: right;\n",
       "    }\n",
       "</style>\n",
       "<table border=\"1\" class=\"dataframe\">\n",
       "  <thead>\n",
       "    <tr style=\"text-align: right;\">\n",
       "      <th></th>\n",
       "      <th>Location</th>\n",
       "      <th>Companies</th>\n",
       "      <th>Proportion (%)</th>\n",
       "    </tr>\n",
       "  </thead>\n",
       "  <tbody>\n",
       "    <tr>\n",
       "      <th>0</th>\n",
       "      <td>Atlanta</td>\n",
       "      <td>6</td>\n",
       "      <td>1.941748</td>\n",
       "    </tr>\n",
       "    <tr>\n",
       "      <th>1</th>\n",
       "      <td>Austin</td>\n",
       "      <td>9</td>\n",
       "      <td>2.912621</td>\n",
       "    </tr>\n",
       "    <tr>\n",
       "      <th>2</th>\n",
       "      <td>Boise</td>\n",
       "      <td>2</td>\n",
       "      <td>0.647249</td>\n",
       "    </tr>\n",
       "    <tr>\n",
       "      <th>3</th>\n",
       "      <td>Boston</td>\n",
       "      <td>24</td>\n",
       "      <td>7.766990</td>\n",
       "    </tr>\n",
       "    <tr>\n",
       "      <th>4</th>\n",
       "      <td>Charlotte</td>\n",
       "      <td>2</td>\n",
       "      <td>0.647249</td>\n",
       "    </tr>\n",
       "    <tr>\n",
       "      <th>5</th>\n",
       "      <td>Chicago</td>\n",
       "      <td>3</td>\n",
       "      <td>0.970874</td>\n",
       "    </tr>\n",
       "    <tr>\n",
       "      <th>6</th>\n",
       "      <td>Cincinnati</td>\n",
       "      <td>2</td>\n",
       "      <td>0.647249</td>\n",
       "    </tr>\n",
       "    <tr>\n",
       "      <th>7</th>\n",
       "      <td>Columbus</td>\n",
       "      <td>4</td>\n",
       "      <td>1.294498</td>\n",
       "    </tr>\n",
       "    <tr>\n",
       "      <th>8</th>\n",
       "      <td>Denver</td>\n",
       "      <td>2</td>\n",
       "      <td>0.647249</td>\n",
       "    </tr>\n",
       "    <tr>\n",
       "      <th>9</th>\n",
       "      <td>Las Vegas</td>\n",
       "      <td>2</td>\n",
       "      <td>0.647249</td>\n",
       "    </tr>\n",
       "    <tr>\n",
       "      <th>10</th>\n",
       "      <td>London</td>\n",
       "      <td>3</td>\n",
       "      <td>0.970874</td>\n",
       "    </tr>\n",
       "    <tr>\n",
       "      <th>11</th>\n",
       "      <td>Los Angeles</td>\n",
       "      <td>14</td>\n",
       "      <td>4.530744</td>\n",
       "    </tr>\n",
       "    <tr>\n",
       "      <th>12</th>\n",
       "      <td>Miami</td>\n",
       "      <td>3</td>\n",
       "      <td>0.970874</td>\n",
       "    </tr>\n",
       "    <tr>\n",
       "      <th>13</th>\n",
       "      <td>Nashville</td>\n",
       "      <td>2</td>\n",
       "      <td>0.647249</td>\n",
       "    </tr>\n",
       "    <tr>\n",
       "      <th>14</th>\n",
       "      <td>New York City</td>\n",
       "      <td>41</td>\n",
       "      <td>13.268608</td>\n",
       "    </tr>\n",
       "    <tr>\n",
       "      <th>15</th>\n",
       "      <td>Philadelphia</td>\n",
       "      <td>3</td>\n",
       "      <td>0.970874</td>\n",
       "    </tr>\n",
       "    <tr>\n",
       "      <th>16</th>\n",
       "      <td>Phoenix</td>\n",
       "      <td>2</td>\n",
       "      <td>0.647249</td>\n",
       "    </tr>\n",
       "    <tr>\n",
       "      <th>17</th>\n",
       "      <td>Pittsburgh</td>\n",
       "      <td>2</td>\n",
       "      <td>0.647249</td>\n",
       "    </tr>\n",
       "    <tr>\n",
       "      <th>18</th>\n",
       "      <td>Portland</td>\n",
       "      <td>3</td>\n",
       "      <td>0.970874</td>\n",
       "    </tr>\n",
       "    <tr>\n",
       "      <th>19</th>\n",
       "      <td>Reno</td>\n",
       "      <td>2</td>\n",
       "      <td>0.647249</td>\n",
       "    </tr>\n",
       "    <tr>\n",
       "      <th>20</th>\n",
       "      <td>SF Bay Area</td>\n",
       "      <td>123</td>\n",
       "      <td>39.805825</td>\n",
       "    </tr>\n",
       "    <tr>\n",
       "      <th>21</th>\n",
       "      <td>San Antonio</td>\n",
       "      <td>2</td>\n",
       "      <td>0.647249</td>\n",
       "    </tr>\n",
       "    <tr>\n",
       "      <th>22</th>\n",
       "      <td>San Diego</td>\n",
       "      <td>2</td>\n",
       "      <td>0.647249</td>\n",
       "    </tr>\n",
       "    <tr>\n",
       "      <th>23</th>\n",
       "      <td>Seattle</td>\n",
       "      <td>15</td>\n",
       "      <td>4.854369</td>\n",
       "    </tr>\n",
       "    <tr>\n",
       "      <th>24</th>\n",
       "      <td>St. Louis</td>\n",
       "      <td>3</td>\n",
       "      <td>0.970874</td>\n",
       "    </tr>\n",
       "    <tr>\n",
       "      <th>25</th>\n",
       "      <td>Washington DC</td>\n",
       "      <td>7</td>\n",
       "      <td>2.265372</td>\n",
       "    </tr>\n",
       "    <tr>\n",
       "      <th>26</th>\n",
       "      <td>Wilmington</td>\n",
       "      <td>2</td>\n",
       "      <td>0.647249</td>\n",
       "    </tr>\n",
       "    <tr>\n",
       "      <th>27</th>\n",
       "      <td>Other</td>\n",
       "      <td>24</td>\n",
       "      <td>7.766990</td>\n",
       "    </tr>\n",
       "  </tbody>\n",
       "</table>\n",
       "</div>"
      ],
      "text/plain": [
       "         Location  Companies  Proportion (%)\n",
       "0         Atlanta          6        1.941748\n",
       "1          Austin          9        2.912621\n",
       "2           Boise          2        0.647249\n",
       "3          Boston         24        7.766990\n",
       "4       Charlotte          2        0.647249\n",
       "5         Chicago          3        0.970874\n",
       "6      Cincinnati          2        0.647249\n",
       "7        Columbus          4        1.294498\n",
       "8          Denver          2        0.647249\n",
       "9       Las Vegas          2        0.647249\n",
       "10         London          3        0.970874\n",
       "11    Los Angeles         14        4.530744\n",
       "12          Miami          3        0.970874\n",
       "13      Nashville          2        0.647249\n",
       "14  New York City         41       13.268608\n",
       "15   Philadelphia          3        0.970874\n",
       "16        Phoenix          2        0.647249\n",
       "17     Pittsburgh          2        0.647249\n",
       "18       Portland          3        0.970874\n",
       "19           Reno          2        0.647249\n",
       "20    SF Bay Area        123       39.805825\n",
       "21    San Antonio          2        0.647249\n",
       "22      San Diego          2        0.647249\n",
       "23        Seattle         15        4.854369\n",
       "24      St. Louis          3        0.970874\n",
       "25  Washington DC          7        2.265372\n",
       "26     Wilmington          2        0.647249\n",
       "27          Other         24        7.766990"
      ]
     },
     "execution_count": 23,
     "metadata": {},
     "output_type": "execute_result"
    }
   ],
   "source": [
    "Loc_cat2['Proportion (%)']=(Loc_cat1['Companies']/observations)*100\n",
    "Loc_cat2\n",
    "\n",
    "\n",
    "#loc_table = plt.subplot(111, frame_on=False) # no visible frame\n",
    "#loc_table.xaxis.set_visible(False)  # hide the x axis\n",
    "#loc_table.yaxis.set_visible(False)  # hide the y axis\n",
    "\n",
    "#table(loc_table, Loc_cat2)  # where df is your data frame\n",
    "\n",
    "#plt.savefig('location_table.png')"
   ]
  },
  {
   "cell_type": "code",
   "execution_count": 102,
   "id": "13cd9ad0",
   "metadata": {},
   "outputs": [],
   "source": [
    "#Loc_cat3 = Loc_cat[Loc_cat.Location > 2]\n",
    "#Loc_cat2"
   ]
  },
  {
   "cell_type": "code",
   "execution_count": 24,
   "id": "f45b168e",
   "metadata": {},
   "outputs": [],
   "source": [
    "Loc_cat_plot = Loc_cat1.set_index('Location')"
   ]
  },
  {
   "cell_type": "code",
   "execution_count": 102,
   "id": "321ea1ad",
   "metadata": {},
   "outputs": [
    {
     "data": {
      "image/png": "[encoded data removed]",
      "text/plain": [
       "<Figure size 640x480 with 1 Axes>"
      ]
     },
     "metadata": {},
     "output_type": "display_data"
    }
   ],
   "source": [
    "#plt.figure(figsize=(10,8))\n",
    "\n",
    "Loc_cat_plot.plot.barh()\n",
    "plt.title('Location (city)')\n",
    "plt.xlabel('')\n",
    "\n",
    "plt.savefig('Loc.png')"
   ]
  },
  {
   "cell_type": "code",
   "execution_count": 26,
   "id": "1b3a293b",
   "metadata": {},
   "outputs": [],
   "source": [
    "Ind_cat = df['Industry'].groupby(df['Industry']).count()\n",
    "Ind_cat = pd.DataFrame(Ind_cat)"
   ]
  },
  {
   "cell_type": "code",
   "execution_count": 27,
   "id": "a070cb8a",
   "metadata": {},
   "outputs": [],
   "source": [
    "Ind_cat1 = Ind_cat.copy()\n",
    "Ind_cat1['Proportion (%)']=(Ind_cat1['Industry']/observations)*100"
   ]
  },
  {
   "cell_type": "code",
   "execution_count": 28,
   "id": "7eb4557a",
   "metadata": {},
   "outputs": [
    {
     "data": {
      "text/html": [
       "<div>\n",
       "<style scoped>\n",
       "    .dataframe tbody tr th:only-of-type {\n",
       "        vertical-align: middle;\n",
       "    }\n",
       "\n",
       "    .dataframe tbody tr th {\n",
       "        vertical-align: top;\n",
       "    }\n",
       "\n",
       "    .dataframe thead th {\n",
       "        text-align: right;\n",
       "    }\n",
       "</style>\n",
       "<table border=\"1\" class=\"dataframe\">\n",
       "  <thead>\n",
       "    <tr style=\"text-align: right;\">\n",
       "      <th></th>\n",
       "      <th>Industry</th>\n",
       "      <th>Proportion (%)</th>\n",
       "    </tr>\n",
       "    <tr>\n",
       "      <th>Industry</th>\n",
       "      <th></th>\n",
       "      <th></th>\n",
       "    </tr>\n",
       "  </thead>\n",
       "  <tbody>\n",
       "    <tr>\n",
       "      <th>Construction</th>\n",
       "      <td>1</td>\n",
       "      <td>0.323625</td>\n",
       "    </tr>\n",
       "    <tr>\n",
       "      <th>Consumer</th>\n",
       "      <td>20</td>\n",
       "      <td>6.472492</td>\n",
       "    </tr>\n",
       "    <tr>\n",
       "      <th>Crypto</th>\n",
       "      <td>18</td>\n",
       "      <td>5.825243</td>\n",
       "    </tr>\n",
       "    <tr>\n",
       "      <th>Data</th>\n",
       "      <td>12</td>\n",
       "      <td>3.883495</td>\n",
       "    </tr>\n",
       "    <tr>\n",
       "      <th>Education</th>\n",
       "      <td>3</td>\n",
       "      <td>0.970874</td>\n",
       "    </tr>\n",
       "    <tr>\n",
       "      <th>Finance</th>\n",
       "      <td>27</td>\n",
       "      <td>8.737864</td>\n",
       "    </tr>\n",
       "    <tr>\n",
       "      <th>Fitness</th>\n",
       "      <td>3</td>\n",
       "      <td>0.970874</td>\n",
       "    </tr>\n",
       "    <tr>\n",
       "      <th>Food</th>\n",
       "      <td>8</td>\n",
       "      <td>2.588997</td>\n",
       "    </tr>\n",
       "    <tr>\n",
       "      <th>HR</th>\n",
       "      <td>15</td>\n",
       "      <td>4.854369</td>\n",
       "    </tr>\n",
       "    <tr>\n",
       "      <th>Hardware</th>\n",
       "      <td>9</td>\n",
       "      <td>2.912621</td>\n",
       "    </tr>\n",
       "    <tr>\n",
       "      <th>Healthcare</th>\n",
       "      <td>40</td>\n",
       "      <td>12.944984</td>\n",
       "    </tr>\n",
       "    <tr>\n",
       "      <th>Infrastructure</th>\n",
       "      <td>5</td>\n",
       "      <td>1.618123</td>\n",
       "    </tr>\n",
       "    <tr>\n",
       "      <th>Legal</th>\n",
       "      <td>4</td>\n",
       "      <td>1.294498</td>\n",
       "    </tr>\n",
       "    <tr>\n",
       "      <th>Logistics</th>\n",
       "      <td>4</td>\n",
       "      <td>1.294498</td>\n",
       "    </tr>\n",
       "    <tr>\n",
       "      <th>Manufacturing</th>\n",
       "      <td>2</td>\n",
       "      <td>0.647249</td>\n",
       "    </tr>\n",
       "    <tr>\n",
       "      <th>Marketing</th>\n",
       "      <td>16</td>\n",
       "      <td>5.177994</td>\n",
       "    </tr>\n",
       "    <tr>\n",
       "      <th>Media</th>\n",
       "      <td>9</td>\n",
       "      <td>2.912621</td>\n",
       "    </tr>\n",
       "    <tr>\n",
       "      <th>Other</th>\n",
       "      <td>33</td>\n",
       "      <td>10.679612</td>\n",
       "    </tr>\n",
       "    <tr>\n",
       "      <th>Product</th>\n",
       "      <td>5</td>\n",
       "      <td>1.618123</td>\n",
       "    </tr>\n",
       "    <tr>\n",
       "      <th>Real Estate</th>\n",
       "      <td>7</td>\n",
       "      <td>2.265372</td>\n",
       "    </tr>\n",
       "    <tr>\n",
       "      <th>Retail</th>\n",
       "      <td>20</td>\n",
       "      <td>6.472492</td>\n",
       "    </tr>\n",
       "    <tr>\n",
       "      <th>Sales</th>\n",
       "      <td>8</td>\n",
       "      <td>2.588997</td>\n",
       "    </tr>\n",
       "    <tr>\n",
       "      <th>Security</th>\n",
       "      <td>12</td>\n",
       "      <td>3.883495</td>\n",
       "    </tr>\n",
       "    <tr>\n",
       "      <th>Support</th>\n",
       "      <td>11</td>\n",
       "      <td>3.559871</td>\n",
       "    </tr>\n",
       "    <tr>\n",
       "      <th>Transportation</th>\n",
       "      <td>11</td>\n",
       "      <td>3.559871</td>\n",
       "    </tr>\n",
       "    <tr>\n",
       "      <th>Travel</th>\n",
       "      <td>4</td>\n",
       "      <td>1.294498</td>\n",
       "    </tr>\n",
       "  </tbody>\n",
       "</table>\n",
       "</div>"
      ],
      "text/plain": [
       "                Industry  Proportion (%)\n",
       "Industry                                \n",
       "Construction           1        0.323625\n",
       "Consumer              20        6.472492\n",
       "Crypto                18        5.825243\n",
       "Data                  12        3.883495\n",
       "Education              3        0.970874\n",
       "Finance               27        8.737864\n",
       "Fitness                3        0.970874\n",
       "Food                   8        2.588997\n",
       "HR                    15        4.854369\n",
       "Hardware               9        2.912621\n",
       "Healthcare            40       12.944984\n",
       "Infrastructure         5        1.618123\n",
       "Legal                  4        1.294498\n",
       "Logistics              4        1.294498\n",
       "Manufacturing          2        0.647249\n",
       "Marketing             16        5.177994\n",
       "Media                  9        2.912621\n",
       "Other                 33       10.679612\n",
       "Product                5        1.618123\n",
       "Real Estate            7        2.265372\n",
       "Retail                20        6.472492\n",
       "Sales                  8        2.588997\n",
       "Security              12        3.883495\n",
       "Support               11        3.559871\n",
       "Transportation        11        3.559871\n",
       "Travel                 4        1.294498"
      ]
     },
     "execution_count": 28,
     "metadata": {},
     "output_type": "execute_result"
    }
   ],
   "source": [
    "Ind_cat1"
   ]
  },
  {
   "cell_type": "code",
   "execution_count": 101,
   "id": "ba6883a7",
   "metadata": {},
   "outputs": [
    {
     "data": {
      "image/png": "[encoded data removed]",
      "text/plain": [
       "<Figure size 640x480 with 1 Axes>"
      ]
     },
     "metadata": {},
     "output_type": "display_data"
    }
   ],
   "source": [
    "Ind_cat.plot.barh()\n",
    "plt.title('Industry')\n",
    "plt.xlabel('')\n",
    "\n",
    "plt.savefig('Ind.png')"
   ]
  },
  {
   "cell_type": "code",
   "execution_count": 30,
   "id": "837b7a38",
   "metadata": {},
   "outputs": [],
   "source": [
    "Ind_cat2 = Ind_cat[Ind_cat.Industry > 2]\n",
    "#Ind_cat2"
   ]
  },
  {
   "cell_type": "code",
   "execution_count": 136,
   "id": "5982a912",
   "metadata": {},
   "outputs": [],
   "source": [
    "#Ind_cat2.plot.bar()\n",
    "#plt.title('')\n",
    "#plt.xlabel('')"
   ]
  },
  {
   "cell_type": "code",
   "execution_count": 31,
   "id": "df375afa",
   "metadata": {},
   "outputs": [],
   "source": [
    "Stage_cat = df['Stage'].groupby(df['Stage']).count()"
   ]
  },
  {
   "cell_type": "code",
   "execution_count": 32,
   "id": "612b2667",
   "metadata": {},
   "outputs": [],
   "source": [
    "Stage_cat = pd.DataFrame(Stage_cat)\n",
    "#Stage_cat"
   ]
  },
  {
   "cell_type": "code",
   "execution_count": 33,
   "id": "98bd7553",
   "metadata": {},
   "outputs": [],
   "source": [
    "Stage_cat1 = Stage_cat.copy()\n",
    "Stage_cat1['Proportion (%)']=(Stage_cat['Stage']/observations)*100"
   ]
  },
  {
   "cell_type": "code",
   "execution_count": 34,
   "id": "d2a4db72",
   "metadata": {},
   "outputs": [
    {
     "data": {
      "text/html": [
       "<div>\n",
       "<style scoped>\n",
       "    .dataframe tbody tr th:only-of-type {\n",
       "        vertical-align: middle;\n",
       "    }\n",
       "\n",
       "    .dataframe tbody tr th {\n",
       "        vertical-align: top;\n",
       "    }\n",
       "\n",
       "    .dataframe thead th {\n",
       "        text-align: right;\n",
       "    }\n",
       "</style>\n",
       "<table border=\"1\" class=\"dataframe\">\n",
       "  <thead>\n",
       "    <tr style=\"text-align: right;\">\n",
       "      <th></th>\n",
       "      <th>Frequency</th>\n",
       "      <th>Proportion (%)</th>\n",
       "    </tr>\n",
       "    <tr>\n",
       "      <th>Stage</th>\n",
       "      <th></th>\n",
       "      <th></th>\n",
       "    </tr>\n",
       "  </thead>\n",
       "  <tbody>\n",
       "    <tr>\n",
       "      <th>Acquired</th>\n",
       "      <td>31</td>\n",
       "      <td>10.032362</td>\n",
       "    </tr>\n",
       "    <tr>\n",
       "      <th>IPO</th>\n",
       "      <td>65</td>\n",
       "      <td>21.035599</td>\n",
       "    </tr>\n",
       "    <tr>\n",
       "      <th>Post-IPO</th>\n",
       "      <td>50</td>\n",
       "      <td>16.181230</td>\n",
       "    </tr>\n",
       "    <tr>\n",
       "      <th>Private Equity</th>\n",
       "      <td>4</td>\n",
       "      <td>1.294498</td>\n",
       "    </tr>\n",
       "    <tr>\n",
       "      <th>Seed</th>\n",
       "      <td>4</td>\n",
       "      <td>1.294498</td>\n",
       "    </tr>\n",
       "    <tr>\n",
       "      <th>Series A</th>\n",
       "      <td>12</td>\n",
       "      <td>3.883495</td>\n",
       "    </tr>\n",
       "    <tr>\n",
       "      <th>Series B</th>\n",
       "      <td>25</td>\n",
       "      <td>8.090615</td>\n",
       "    </tr>\n",
       "    <tr>\n",
       "      <th>Series C</th>\n",
       "      <td>28</td>\n",
       "      <td>9.061489</td>\n",
       "    </tr>\n",
       "    <tr>\n",
       "      <th>Series D</th>\n",
       "      <td>16</td>\n",
       "      <td>5.177994</td>\n",
       "    </tr>\n",
       "    <tr>\n",
       "      <th>Series E</th>\n",
       "      <td>20</td>\n",
       "      <td>6.472492</td>\n",
       "    </tr>\n",
       "    <tr>\n",
       "      <th>Series F</th>\n",
       "      <td>14</td>\n",
       "      <td>4.530744</td>\n",
       "    </tr>\n",
       "    <tr>\n",
       "      <th>Series G</th>\n",
       "      <td>3</td>\n",
       "      <td>0.970874</td>\n",
       "    </tr>\n",
       "    <tr>\n",
       "      <th>Series H</th>\n",
       "      <td>2</td>\n",
       "      <td>0.647249</td>\n",
       "    </tr>\n",
       "    <tr>\n",
       "      <th>Subsidiary</th>\n",
       "      <td>3</td>\n",
       "      <td>0.970874</td>\n",
       "    </tr>\n",
       "    <tr>\n",
       "      <th>Unknown</th>\n",
       "      <td>31</td>\n",
       "      <td>10.032362</td>\n",
       "    </tr>\n",
       "  </tbody>\n",
       "</table>\n",
       "</div>"
      ],
      "text/plain": [
       "                Frequency  Proportion (%)\n",
       "Stage                                    \n",
       "Acquired               31       10.032362\n",
       "IPO                    65       21.035599\n",
       "Post-IPO               50       16.181230\n",
       "Private Equity          4        1.294498\n",
       "Seed                    4        1.294498\n",
       "Series A               12        3.883495\n",
       "Series B               25        8.090615\n",
       "Series C               28        9.061489\n",
       "Series D               16        5.177994\n",
       "Series E               20        6.472492\n",
       "Series F               14        4.530744\n",
       "Series G                3        0.970874\n",
       "Series H                2        0.647249\n",
       "Subsidiary              3        0.970874\n",
       "Unknown                31       10.032362"
      ]
     },
     "execution_count": 34,
     "metadata": {},
     "output_type": "execute_result"
    }
   ],
   "source": [
    "Stage_cat1.rename(columns={\"Stage\": \"Frequency\", \"Proportion (%)\": \"Proportion (%)\"}, inplace= True)\n",
    "Stage_cat1"
   ]
  },
  {
   "cell_type": "code",
   "execution_count": 100,
   "id": "4dfc14b1",
   "metadata": {},
   "outputs": [
    {
     "data": {
      "text/plain": [
       "Text(0.5, 0, '')"
      ]
     },
     "execution_count": 100,
     "metadata": {},
     "output_type": "execute_result"
    },
    {
     "data": {
      "image/png": "[encoded data removed]",
      "text/plain": [
       "<Figure size 640x480 with 1 Axes>"
      ]
     },
     "metadata": {},
     "output_type": "display_data"
    }
   ],
   "source": [
    "Stage_cat.plot.barh()\n",
    "plt.title('Business Stage')\n",
    "plt.xlabel('')\n",
    "\n",
    "#plt.savefig('Loc.png')"
   ]
  },
  {
   "cell_type": "code",
   "execution_count": 36,
   "id": "ba741193",
   "metadata": {},
   "outputs": [],
   "source": [
    "Fed_cat = df['Fed_int_rate'].groupby(df['Fed_int_rate']).count()"
   ]
  },
  {
   "cell_type": "code",
   "execution_count": 37,
   "id": "3f8431e3",
   "metadata": {},
   "outputs": [
    {
     "data": {
      "text/html": [
       "<div>\n",
       "<style scoped>\n",
       "    .dataframe tbody tr th:only-of-type {\n",
       "        vertical-align: middle;\n",
       "    }\n",
       "\n",
       "    .dataframe tbody tr th {\n",
       "        vertical-align: top;\n",
       "    }\n",
       "\n",
       "    .dataframe thead th {\n",
       "        text-align: right;\n",
       "    }\n",
       "</style>\n",
       "<table border=\"1\" class=\"dataframe\">\n",
       "  <thead>\n",
       "    <tr style=\"text-align: right;\">\n",
       "      <th></th>\n",
       "      <th>Fed_int_rate</th>\n",
       "    </tr>\n",
       "    <tr>\n",
       "      <th>Fed_int_rate</th>\n",
       "      <th></th>\n",
       "    </tr>\n",
       "  </thead>\n",
       "  <tbody>\n",
       "    <tr>\n",
       "      <th>4.50</th>\n",
       "      <td>180</td>\n",
       "    </tr>\n",
       "    <tr>\n",
       "      <th>4.75</th>\n",
       "      <td>128</td>\n",
       "    </tr>\n",
       "  </tbody>\n",
       "</table>\n",
       "</div>"
      ],
      "text/plain": [
       "              Fed_int_rate\n",
       "Fed_int_rate              \n",
       "4.50                   180\n",
       "4.75                   128"
      ]
     },
     "execution_count": 37,
     "metadata": {},
     "output_type": "execute_result"
    }
   ],
   "source": [
    "Fed_cat = pd.DataFrame(Fed_cat)\n",
    "Fed_cat"
   ]
  },
  {
   "cell_type": "code",
   "execution_count": 38,
   "id": "6be9a254",
   "metadata": {},
   "outputs": [
    {
     "data": {
      "text/html": [
       "<div>\n",
       "<style scoped>\n",
       "    .dataframe tbody tr th:only-of-type {\n",
       "        vertical-align: middle;\n",
       "    }\n",
       "\n",
       "    .dataframe tbody tr th {\n",
       "        vertical-align: top;\n",
       "    }\n",
       "\n",
       "    .dataframe thead th {\n",
       "        text-align: right;\n",
       "    }\n",
       "</style>\n",
       "<table border=\"1\" class=\"dataframe\">\n",
       "  <thead>\n",
       "    <tr style=\"text-align: right;\">\n",
       "      <th></th>\n",
       "      <th>Fed_int_rate</th>\n",
       "      <th>Proportion (%)</th>\n",
       "    </tr>\n",
       "    <tr>\n",
       "      <th>Fed_int_rate</th>\n",
       "      <th></th>\n",
       "      <th></th>\n",
       "    </tr>\n",
       "  </thead>\n",
       "  <tbody>\n",
       "    <tr>\n",
       "      <th>4.50</th>\n",
       "      <td>180</td>\n",
       "      <td>58.252427</td>\n",
       "    </tr>\n",
       "    <tr>\n",
       "      <th>4.75</th>\n",
       "      <td>128</td>\n",
       "      <td>41.423948</td>\n",
       "    </tr>\n",
       "  </tbody>\n",
       "</table>\n",
       "</div>"
      ],
      "text/plain": [
       "              Fed_int_rate  Proportion (%)\n",
       "Fed_int_rate                              \n",
       "4.50                   180       58.252427\n",
       "4.75                   128       41.423948"
      ]
     },
     "execution_count": 38,
     "metadata": {},
     "output_type": "execute_result"
    }
   ],
   "source": [
    "Fed_cat1 = Fed_cat.copy()\n",
    "Fed_cat1['Proportion (%)']=(Fed_cat['Fed_int_rate']/observations)*100\n",
    "Fed_cat1"
   ]
  },
  {
   "cell_type": "code",
   "execution_count": 39,
   "id": "2c9ec45f",
   "metadata": {},
   "outputs": [
    {
     "data": {
      "text/plain": [
       "Text(0.5, 0, '')"
      ]
     },
     "execution_count": 39,
     "metadata": {},
     "output_type": "execute_result"
    },
    {
     "data": {
      "image/png": "[encoded data removed]",
      "text/plain": [
       "<Figure size 640x480 with 1 Axes>"
      ]
     },
     "metadata": {},
     "output_type": "display_data"
    }
   ],
   "source": [
    "Fed_cat.plot.bar()\n",
    "plt.title('Federal Interest Rate')\n",
    "plt.xlabel('')\n",
    "\n",
    "#plt.savefig('Loc.png')"
   ]
  },
  {
   "cell_type": "markdown",
   "id": "430490ed",
   "metadata": {},
   "source": [
    "### Correlation Matrix for 4 continuous variables:"
   ]
  },
  {
   "cell_type": "code",
   "execution_count": 41,
   "id": "27bfe629",
   "metadata": {},
   "outputs": [
    {
     "data": {
      "text/plain": [
       "<AxesSubplot:>"
      ]
     },
     "execution_count": 41,
     "metadata": {},
     "output_type": "execute_result"
    },
    {
     "data": {
      "image/png": "[encoded data removed]",
      "text/plain": [
       "<Figure size 640x480 with 2 Axes>"
      ]
     },
     "metadata": {},
     "output_type": "display_data"
    }
   ],
   "source": [
    "datacorr = pd.DataFrame(df, columns = ('Number_laid_off','Percent','Money_raised_mm','Federal_int_rate'))\n",
    "\n",
    "sns.heatmap(datacorr.corr())    "
   ]
  },
  {
   "cell_type": "code",
   "execution_count": 55,
   "id": "de97e1ca",
   "metadata": {},
   "outputs": [
    {
     "data": {
      "text/html": [
       "<div>\n",
       "<style scoped>\n",
       "    .dataframe tbody tr th:only-of-type {\n",
       "        vertical-align: middle;\n",
       "    }\n",
       "\n",
       "    .dataframe tbody tr th {\n",
       "        vertical-align: top;\n",
       "    }\n",
       "\n",
       "    .dataframe thead th {\n",
       "        text-align: right;\n",
       "    }\n",
       "</style>\n",
       "<table border=\"1\" class=\"dataframe\">\n",
       "  <thead>\n",
       "    <tr style=\"text-align: right;\">\n",
       "      <th></th>\n",
       "      <th>Number_laid_off</th>\n",
       "      <th>Percent</th>\n",
       "      <th>Money_raised_mm</th>\n",
       "      <th>Federal_int_rate</th>\n",
       "    </tr>\n",
       "  </thead>\n",
       "  <tbody>\n",
       "    <tr>\n",
       "      <th>Number_laid_off</th>\n",
       "      <td>1.000000</td>\n",
       "      <td>-0.147611</td>\n",
       "      <td>-0.045814</td>\n",
       "      <td>NaN</td>\n",
       "    </tr>\n",
       "    <tr>\n",
       "      <th>Percent</th>\n",
       "      <td>-0.147611</td>\n",
       "      <td>1.000000</td>\n",
       "      <td>-0.150447</td>\n",
       "      <td>NaN</td>\n",
       "    </tr>\n",
       "    <tr>\n",
       "      <th>Money_raised_mm</th>\n",
       "      <td>-0.045814</td>\n",
       "      <td>-0.150447</td>\n",
       "      <td>1.000000</td>\n",
       "      <td>NaN</td>\n",
       "    </tr>\n",
       "    <tr>\n",
       "      <th>Federal_int_rate</th>\n",
       "      <td>NaN</td>\n",
       "      <td>NaN</td>\n",
       "      <td>NaN</td>\n",
       "      <td>NaN</td>\n",
       "    </tr>\n",
       "  </tbody>\n",
       "</table>\n",
       "</div>"
      ],
      "text/plain": [
       "                  Number_laid_off   Percent  Money_raised_mm  Federal_int_rate\n",
       "Number_laid_off          1.000000 -0.147611        -0.045814               NaN\n",
       "Percent                 -0.147611  1.000000        -0.150447               NaN\n",
       "Money_raised_mm         -0.045814 -0.150447         1.000000               NaN\n",
       "Federal_int_rate              NaN       NaN              NaN               NaN"
      ]
     },
     "execution_count": 55,
     "metadata": {},
     "output_type": "execute_result"
    }
   ],
   "source": [
    "corr1 = datacorr.corr()\n",
    "corr1 = pd.DataFrame(corr1)\n",
    "corr1"
   ]
  },
  {
   "cell_type": "markdown",
   "id": "6d519ef4",
   "metadata": {},
   "source": [
    "## Data Set Graphical Exploration"
   ]
  },
  {
   "cell_type": "code",
   "execution_count": 70,
   "id": "f8519e26",
   "metadata": {},
   "outputs": [
    {
     "data": {
      "text/plain": [
       "0      8000.0\n",
       "1       245.0\n",
       "2      8000.0\n",
       "4       700.0\n",
       "6        60.0\n",
       "        ...  \n",
       "300     130.0\n",
       "304      79.0\n",
       "305      63.0\n",
       "306      30.0\n",
       "307      12.0\n",
       "Name: Number_laid_off, Length: 193, dtype: float64"
      ]
     },
     "execution_count": 70,
     "metadata": {},
     "output_type": "execute_result"
    }
   ],
   "source": [
    "df2 = df['Number_laid_off']\n",
    "df2 = df2.dropna()\n",
    "df2"
   ]
  },
  {
   "cell_type": "code",
   "execution_count": 71,
   "id": "ccd82da5",
   "metadata": {},
   "outputs": [
    {
     "data": {
      "text/html": [
       "<div>\n",
       "<style scoped>\n",
       "    .dataframe tbody tr th:only-of-type {\n",
       "        vertical-align: middle;\n",
       "    }\n",
       "\n",
       "    .dataframe tbody tr th {\n",
       "        vertical-align: top;\n",
       "    }\n",
       "\n",
       "    .dataframe thead th {\n",
       "        text-align: right;\n",
       "    }\n",
       "</style>\n",
       "<table border=\"1\" class=\"dataframe\">\n",
       "  <thead>\n",
       "    <tr style=\"text-align: right;\">\n",
       "      <th></th>\n",
       "      <th>Number_laid_off</th>\n",
       "    </tr>\n",
       "  </thead>\n",
       "  <tbody>\n",
       "    <tr>\n",
       "      <th>0</th>\n",
       "      <td>8000.0</td>\n",
       "    </tr>\n",
       "    <tr>\n",
       "      <th>1</th>\n",
       "      <td>245.0</td>\n",
       "    </tr>\n",
       "    <tr>\n",
       "      <th>2</th>\n",
       "      <td>8000.0</td>\n",
       "    </tr>\n",
       "    <tr>\n",
       "      <th>4</th>\n",
       "      <td>700.0</td>\n",
       "    </tr>\n",
       "    <tr>\n",
       "      <th>6</th>\n",
       "      <td>60.0</td>\n",
       "    </tr>\n",
       "    <tr>\n",
       "      <th>...</th>\n",
       "      <td>...</td>\n",
       "    </tr>\n",
       "    <tr>\n",
       "      <th>300</th>\n",
       "      <td>130.0</td>\n",
       "    </tr>\n",
       "    <tr>\n",
       "      <th>304</th>\n",
       "      <td>79.0</td>\n",
       "    </tr>\n",
       "    <tr>\n",
       "      <th>305</th>\n",
       "      <td>63.0</td>\n",
       "    </tr>\n",
       "    <tr>\n",
       "      <th>306</th>\n",
       "      <td>30.0</td>\n",
       "    </tr>\n",
       "    <tr>\n",
       "      <th>307</th>\n",
       "      <td>12.0</td>\n",
       "    </tr>\n",
       "  </tbody>\n",
       "</table>\n",
       "<p>193 rows × 1 columns</p>\n",
       "</div>"
      ],
      "text/plain": [
       "     Number_laid_off\n",
       "0             8000.0\n",
       "1              245.0\n",
       "2             8000.0\n",
       "4              700.0\n",
       "6               60.0\n",
       "..               ...\n",
       "300            130.0\n",
       "304             79.0\n",
       "305             63.0\n",
       "306             30.0\n",
       "307             12.0\n",
       "\n",
       "[193 rows x 1 columns]"
      ]
     },
     "execution_count": 71,
     "metadata": {},
     "output_type": "execute_result"
    }
   ],
   "source": [
    "df2 = pd.DataFrame(df2)\n",
    "df2"
   ]
  },
  {
   "cell_type": "code",
   "execution_count": 73,
   "id": "8f380870",
   "metadata": {},
   "outputs": [],
   "source": [
    "#sns.displot(df2, kde='True', color = 'red')"
   ]
  },
  {
   "cell_type": "code",
   "execution_count": 77,
   "id": "5d0df48f",
   "metadata": {},
   "outputs": [
    {
     "data": {
      "text/plain": [
       "Text(0.5, 1.0, 'Number Laid Off Histogram')"
      ]
     },
     "execution_count": 77,
     "metadata": {},
     "output_type": "execute_result"
    },
    {
     "data": {
      "image/png": "[encoded data removed]",
      "text/plain": [
       "<Figure size 640x480 with 1 Axes>"
      ]
     },
     "metadata": {},
     "output_type": "display_data"
    }
   ],
   "source": [
    "h1 = plt.hist(df2['Number_laid_off'], bins = 20)\n",
    "plt.title('Number Laid Off Histogram')"
   ]
  },
  {
   "cell_type": "code",
   "execution_count": 78,
   "id": "4e8dd14f",
   "metadata": {},
   "outputs": [
    {
     "data": {
      "text/plain": [
       "Text(0.5, 1.0, 'Percent Laid Off Histogram')"
      ]
     },
     "execution_count": 78,
     "metadata": {},
     "output_type": "execute_result"
    },
    {
     "data": {
      "image/png": "[encoded data removed]",
      "text/plain": [
       "<Figure size 640x480 with 1 Axes>"
      ]
     },
     "metadata": {},
     "output_type": "display_data"
    }
   ],
   "source": [
    "h2 = plt.hist(df['Percent'], bins = 20)\n",
    "plt.title('Percent Laid Off Histogram')"
   ]
  },
  {
   "cell_type": "code",
   "execution_count": 84,
   "id": "7de68f8b",
   "metadata": {},
   "outputs": [
    {
     "data": {
      "text/plain": [
       "<seaborn.axisgrid.FacetGrid at 0x7f98a51fb220>"
      ]
     },
     "execution_count": 84,
     "metadata": {},
     "output_type": "execute_result"
    },
    {
     "data": {
      "image/png": "[encoded data removed]",
      "text/plain": [
       "<Figure size 500x500 with 1 Axes>"
      ]
     },
     "metadata": {},
     "output_type": "display_data"
    }
   ],
   "source": [
    "sns.displot(df['Percent'], kde='True', color = 'blue')"
   ]
  },
  {
   "cell_type": "code",
   "execution_count": 97,
   "id": "bc0e71c5",
   "metadata": {},
   "outputs": [
    {
     "data": {
      "text/plain": [
       "Text(0.5, 1.0, 'Money Raised Histogram')"
      ]
     },
     "execution_count": 97,
     "metadata": {},
     "output_type": "execute_result"
    },
    {
     "data": {
      "image/png": "[encoded data removed]",
      "text/plain": [
       "<Figure size 640x480 with 1 Axes>"
      ]
     },
     "metadata": {},
     "output_type": "display_data"
    }
   ],
   "source": [
    "h3 = plt.hist(df['Money_raised_mm'], bins = 40)\n",
    "plt.title('Money Raised Histogram')"
   ]
  },
  {
   "cell_type": "code",
   "execution_count": 85,
   "id": "e2372057",
   "metadata": {},
   "outputs": [
    {
     "data": {
      "text/plain": [
       "<seaborn.axisgrid.FacetGrid at 0x7f98a5cfc670>"
      ]
     },
     "execution_count": 85,
     "metadata": {},
     "output_type": "execute_result"
    },
    {
     "data": {
      "image/png": "[encoded data removed]",
      "text/plain": [
       "<Figure size 500x500 with 1 Axes>"
      ]
     },
     "metadata": {},
     "output_type": "display_data"
    }
   ],
   "source": [
    "sns.displot(df['Money_raised_mm'], kde='True', color = 'blue')"
   ]
  },
  {
   "cell_type": "markdown",
   "id": "a5cb2d29",
   "metadata": {},
   "source": [
    "### Scatter plots for comparisons"
   ]
  },
  {
   "cell_type": "code",
   "execution_count": 88,
   "id": "51aceaf7",
   "metadata": {},
   "outputs": [
    {
     "data": {
      "image/png": "[encoded data removed]",
      "text/plain": [
       "<Figure size 640x480 with 1 Axes>"
      ]
     },
     "metadata": {},
     "output_type": "display_data"
    }
   ],
   "source": [
    "s1 = df.plot.scatter(x='Number_laid_off', y = 'Percent', title = 'Percent laid off and Total Count laid off')"
   ]
  },
  {
   "cell_type": "code",
   "execution_count": 89,
   "id": "84f53665",
   "metadata": {},
   "outputs": [
    {
     "data": {
      "image/png": "[encoded data removed]",
      "text/plain": [
       "<Figure size 640x480 with 1 Axes>"
      ]
     },
     "metadata": {},
     "output_type": "display_data"
    }
   ],
   "source": [
    "s2 = df.plot.scatter(x='Number_laid_off', y = 'Money_raised_mm', title= 'Money Raised ')"
   ]
  },
  {
   "cell_type": "code",
   "execution_count": 92,
   "id": "068fb2c4",
   "metadata": {},
   "outputs": [
    {
     "data": {
      "text/plain": [
       "<seaborn.axisgrid.FacetGrid at 0x7f98a78368e0>"
      ]
     },
     "execution_count": 92,
     "metadata": {},
     "output_type": "execute_result"
    },
    {
     "data": {
      "image/png": "[encoded data removed]",
      "text/plain": [
       "<Figure size 500x500 with 1 Axes>"
      ]
     },
     "metadata": {},
     "output_type": "display_data"
    }
   ],
   "source": [
    "#s3 = df.plot.scatter(x='Fed_int_rate', y = 'Number_laid_off', title= 'Money Raised ')\n",
    "sns.catplot(data=df, x=\"Fed_int_rate\", y=\"Number_laid_off\")"
   ]
  },
  {
   "cell_type": "code",
   "execution_count": 94,
   "id": "06e9970a",
   "metadata": {},
   "outputs": [
    {
     "data": {
      "text/plain": [
       "<seaborn.axisgrid.FacetGrid at 0x7f98a6f9d8e0>"
      ]
     },
     "execution_count": 94,
     "metadata": {},
     "output_type": "execute_result"
    },
    {
     "data": {
      "image/png": "[encoded data removed]",
      "text/plain": [
       "<Figure size 500x500 with 1 Axes>"
      ]
     },
     "metadata": {},
     "output_type": "display_data"
    }
   ],
   "source": [
    "sns.catplot(data=df, x=\"Fed_int_rate\", y=\"Percent\")"
   ]
  },
  {
   "cell_type": "code",
   "execution_count": null,
   "id": "7cef43b7",
   "metadata": {},
   "outputs": [],
   "source": [
    "s2 = df.plot.scatter(x='Number_laid_off', y = 'Money_raised_mm', title= 'Money Raised ')"
   ]
  },
  {
   "cell_type": "code",
   "execution_count": null,
   "id": "d9afab72",
   "metadata": {},
   "outputs": [],
   "source": []
  },
  {
   "cell_type": "code",
   "execution_count": 90,
   "id": "7c2163d6",
   "metadata": {},
   "outputs": [
    {
     "data": {
      "text/plain": [
       "<seaborn.axisgrid.PairGrid at 0x7f98a57c6af0>"
      ]
     },
     "execution_count": 90,
     "metadata": {},
     "output_type": "execute_result"
    },
    {
     "data": {
      "image/png": "[encoded data removed]",
      "text/plain": [
       "<Figure size 750x750 with 12 Axes>"
      ]
     },
     "metadata": {},
     "output_type": "display_data"
    }
   ],
   "source": [
    "sns.pairplot(df[['Number_laid_off', 'Percent', 'Money_raised_mm']])"
   ]
  },
  {
   "cell_type": "code",
   "execution_count": null,
   "id": "3e4ed614",
   "metadata": {},
   "outputs": [],
   "source": []
  },
  {
   "cell_type": "code",
   "execution_count": null,
   "id": "972efd89",
   "metadata": {},
   "outputs": [],
   "source": []
  },
  {
   "cell_type": "code",
   "execution_count": null,
   "id": "2f104006",
   "metadata": {},
   "outputs": [],
   "source": []
  },
  {
   "cell_type": "markdown",
   "id": "b9662099",
   "metadata": {},
   "source": [
    "## Make a list with all symbols (column 2) that are not \"NaN\" then put them through the function that gets the PE ratio from yahoo finance \n",
    "### get PE ratio at time of entering data, so it is the PE ratio at the time of the layoff (approx)"
   ]
  },
  {
   "cell_type": "code",
   "execution_count": 166,
   "id": "f7d8b0ce",
   "metadata": {},
   "outputs": [
    {
     "data": {
      "text/html": [
       "<div>\n",
       "<style scoped>\n",
       "    .dataframe tbody tr th:only-of-type {\n",
       "        vertical-align: middle;\n",
       "    }\n",
       "\n",
       "    .dataframe tbody tr th {\n",
       "        vertical-align: top;\n",
       "    }\n",
       "\n",
       "    .dataframe thead th {\n",
       "        text-align: right;\n",
       "    }\n",
       "</style>\n",
       "<table border=\"1\" class=\"dataframe\">\n",
       "  <thead>\n",
       "    <tr style=\"text-align: right;\">\n",
       "      <th></th>\n",
       "      <th>Company</th>\n",
       "      <th>Symbol</th>\n",
       "      <th>Location</th>\n",
       "      <th>Number_laid_off</th>\n",
       "      <th>Layoff_date</th>\n",
       "      <th>Percent</th>\n",
       "      <th>Industry</th>\n",
       "      <th>Stage</th>\n",
       "      <th>Money_raised_mm</th>\n",
       "      <th>Date_reported</th>\n",
       "      <th>Fed_int_rate</th>\n",
       "    </tr>\n",
       "  </thead>\n",
       "  <tbody>\n",
       "    <tr>\n",
       "      <th>0</th>\n",
       "      <td>Amazon</td>\n",
       "      <td>amzn</td>\n",
       "      <td>Seattle</td>\n",
       "      <td>8000.0</td>\n",
       "      <td>2023-01-04</td>\n",
       "      <td>2.0</td>\n",
       "      <td>Retail</td>\n",
       "      <td>IPO</td>\n",
       "      <td>108.0</td>\n",
       "      <td>2023-01-04</td>\n",
       "      <td>4.50</td>\n",
       "    </tr>\n",
       "    <tr>\n",
       "      <th>1</th>\n",
       "      <td>Pegasystems</td>\n",
       "      <td>pega</td>\n",
       "      <td>Boston</td>\n",
       "      <td>245.0</td>\n",
       "      <td>2023-01-03</td>\n",
       "      <td>4.0</td>\n",
       "      <td>HR</td>\n",
       "      <td>IPO</td>\n",
       "      <td>NaN</td>\n",
       "      <td>2023-01-04</td>\n",
       "      <td>4.50</td>\n",
       "    </tr>\n",
       "    <tr>\n",
       "      <th>2</th>\n",
       "      <td>Salesforce</td>\n",
       "      <td>crm</td>\n",
       "      <td>SF Bay Area</td>\n",
       "      <td>8000.0</td>\n",
       "      <td>2023-01-04</td>\n",
       "      <td>10.0</td>\n",
       "      <td>Sales</td>\n",
       "      <td>IPO</td>\n",
       "      <td>65.0</td>\n",
       "      <td>2023-01-04</td>\n",
       "      <td>4.50</td>\n",
       "    </tr>\n",
       "    <tr>\n",
       "      <th>3</th>\n",
       "      <td>Vimeo</td>\n",
       "      <td>vmeo</td>\n",
       "      <td>New York City</td>\n",
       "      <td>NaN</td>\n",
       "      <td>2023-01-04</td>\n",
       "      <td>11.0</td>\n",
       "      <td>Consumer</td>\n",
       "      <td>IPO</td>\n",
       "      <td>450.0</td>\n",
       "      <td>2023-01-04</td>\n",
       "      <td>4.50</td>\n",
       "    </tr>\n",
       "    <tr>\n",
       "      <th>4</th>\n",
       "      <td>Amdocs</td>\n",
       "      <td>dox</td>\n",
       "      <td>St. Louis</td>\n",
       "      <td>700.0</td>\n",
       "      <td>2023-01-02</td>\n",
       "      <td>3.0</td>\n",
       "      <td>Support</td>\n",
       "      <td>IPO</td>\n",
       "      <td>NaN</td>\n",
       "      <td>2023-01-05</td>\n",
       "      <td>4.50</td>\n",
       "    </tr>\n",
       "    <tr>\n",
       "      <th>...</th>\n",
       "      <td>...</td>\n",
       "      <td>...</td>\n",
       "      <td>...</td>\n",
       "      <td>...</td>\n",
       "      <td>...</td>\n",
       "      <td>...</td>\n",
       "      <td>...</td>\n",
       "      <td>...</td>\n",
       "      <td>...</td>\n",
       "      <td>...</td>\n",
       "      <td>...</td>\n",
       "    </tr>\n",
       "    <tr>\n",
       "      <th>304</th>\n",
       "      <td>MasterClass</td>\n",
       "      <td>NaN</td>\n",
       "      <td>SF Bay Area</td>\n",
       "      <td>79.0</td>\n",
       "      <td>2023-03-02</td>\n",
       "      <td>NaN</td>\n",
       "      <td>Education</td>\n",
       "      <td>Series E</td>\n",
       "      <td>461.0</td>\n",
       "      <td>2023-03-03</td>\n",
       "      <td>4.75</td>\n",
       "    </tr>\n",
       "    <tr>\n",
       "      <th>305</th>\n",
       "      <td>UserTesting</td>\n",
       "      <td>NaN</td>\n",
       "      <td>SF Bay Area</td>\n",
       "      <td>63.0</td>\n",
       "      <td>2023-03-03</td>\n",
       "      <td>NaN</td>\n",
       "      <td>Marketing</td>\n",
       "      <td>Acquired</td>\n",
       "      <td>152.0</td>\n",
       "      <td>2023-03-03</td>\n",
       "      <td>4.75</td>\n",
       "    </tr>\n",
       "    <tr>\n",
       "      <th>306</th>\n",
       "      <td>Airbnb</td>\n",
       "      <td>NaN</td>\n",
       "      <td>SF Bay Area</td>\n",
       "      <td>30.0</td>\n",
       "      <td>2023-03-03</td>\n",
       "      <td>NaN</td>\n",
       "      <td>Travel</td>\n",
       "      <td>Post-IPO</td>\n",
       "      <td>6400.0</td>\n",
       "      <td>2023-03-03</td>\n",
       "      <td>4.75</td>\n",
       "    </tr>\n",
       "    <tr>\n",
       "      <th>307</th>\n",
       "      <td>CNET</td>\n",
       "      <td>NaN</td>\n",
       "      <td>SF Bay Area</td>\n",
       "      <td>12.0</td>\n",
       "      <td>2023-03-02</td>\n",
       "      <td>10.0</td>\n",
       "      <td>Media</td>\n",
       "      <td>Acquired</td>\n",
       "      <td>20.0</td>\n",
       "      <td>2023-03-03</td>\n",
       "      <td>4.75</td>\n",
       "    </tr>\n",
       "    <tr>\n",
       "      <th>308</th>\n",
       "      <td>Truckstop.com</td>\n",
       "      <td>NaN</td>\n",
       "      <td>Boise</td>\n",
       "      <td>NaN</td>\n",
       "      <td>2023-03-02</td>\n",
       "      <td>NaN</td>\n",
       "      <td>Logistics</td>\n",
       "      <td>Acquired</td>\n",
       "      <td>NaN</td>\n",
       "      <td>NaT</td>\n",
       "      <td>NaN</td>\n",
       "    </tr>\n",
       "  </tbody>\n",
       "</table>\n",
       "<p>309 rows × 11 columns</p>\n",
       "</div>"
      ],
      "text/plain": [
       "           Company Symbol       Location  Number_laid_off Layoff_date  \\\n",
       "0           Amazon   amzn        Seattle           8000.0  2023-01-04   \n",
       "1      Pegasystems   pega         Boston            245.0  2023-01-03   \n",
       "2       Salesforce    crm    SF Bay Area           8000.0  2023-01-04   \n",
       "3            Vimeo   vmeo  New York City              NaN  2023-01-04   \n",
       "4           Amdocs    dox      St. Louis            700.0  2023-01-02   \n",
       "..             ...    ...            ...              ...         ...   \n",
       "304    MasterClass    NaN    SF Bay Area             79.0  2023-03-02   \n",
       "305    UserTesting    NaN    SF Bay Area             63.0  2023-03-03   \n",
       "306         Airbnb    NaN    SF Bay Area             30.0  2023-03-03   \n",
       "307           CNET    NaN    SF Bay Area             12.0  2023-03-02   \n",
       "308  Truckstop.com    NaN          Boise              NaN  2023-03-02   \n",
       "\n",
       "     Percent   Industry     Stage  Money_raised_mm Date_reported  Fed_int_rate  \n",
       "0        2.0     Retail       IPO            108.0    2023-01-04          4.50  \n",
       "1        4.0         HR       IPO              NaN    2023-01-04          4.50  \n",
       "2       10.0      Sales       IPO             65.0    2023-01-04          4.50  \n",
       "3       11.0   Consumer       IPO            450.0    2023-01-04          4.50  \n",
       "4        3.0    Support       IPO              NaN    2023-01-05          4.50  \n",
       "..       ...        ...       ...              ...           ...           ...  \n",
       "304      NaN  Education  Series E            461.0    2023-03-03          4.75  \n",
       "305      NaN  Marketing  Acquired            152.0    2023-03-03          4.75  \n",
       "306      NaN     Travel  Post-IPO           6400.0    2023-03-03          4.75  \n",
       "307     10.0      Media  Acquired             20.0    2023-03-03          4.75  \n",
       "308      NaN  Logistics  Acquired              NaN           NaT           NaN  \n",
       "\n",
       "[309 rows x 11 columns]"
      ]
     },
     "execution_count": 166,
     "metadata": {},
     "output_type": "execute_result"
    }
   ],
   "source": [
    "df"
   ]
  },
  {
   "cell_type": "code",
   "execution_count": null,
   "id": "174d5f80",
   "metadata": {},
   "outputs": [],
   "source": []
  }
 ],
 "metadata": {
  "kernelspec": {
   "display_name": "Python 3 (ipykernel)",
   "language": "python",
   "name": "python3"
  },
  "language_info": {
   "codemirror_mode": {
    "name": "ipython",
    "version": 3
   },
   "file_extension": ".py",
   "mimetype": "text/x-python",
   "name": "python",
   "nbconvert_exporter": "python",
   "pygments_lexer": "ipython3",
   "version": "3.9.13"
  }
 },
 "nbformat": 4,
 "nbformat_minor": 5
}
